{
 "cells": [
  {
   "cell_type": "markdown",
   "metadata": {},
   "source": [
    "# NAIVE BAYES CLASSIFIER"
   ]
  },
  {
   "cell_type": "markdown",
   "metadata": {},
   "source": [
    "### 1)BAG OF WORDS"
   ]
  },
  {
   "cell_type": "code",
   "execution_count": 1,
   "metadata": {},
   "outputs": [
    {
     "name": "stderr",
     "output_type": "stream",
     "text": [
      "C:\\Users\\vishu\\Anaconda3\\lib\\site-packages\\sklearn\\cross_validation.py:44: DeprecationWarning: This module was deprecated in version 0.18 in favor of the model_selection module into which all the refactored classes and functions are moved. Also note that the interface of the new CV iterators are different from that of this module. This module will be removed in 0.20.\n",
      "  \"This module will be removed in 0.20.\", DeprecationWarning)\n"
     ]
    }
   ],
   "source": [
    "import sqlite3\n",
    "import pandas as pd\n",
    "import numpy as np\n",
    "import nltk\n",
    "import string\n",
    "import matplotlib.pyplot as plt\n",
    "import seaborn as sns\n",
    "from sklearn.feature_extraction.text import TfidfTransformer\n",
    "from sklearn.feature_extraction.text import TfidfVectorizer\n",
    "\n",
    "from sklearn.feature_extraction.text import CountVectorizer\n",
    "from sklearn.metrics import confusion_matrix\n",
    "from sklearn import metrics\n",
    "from sklearn.metrics import roc_curve, auc\n",
    "from nltk.stem.porter import PorterStemmer\n",
    "from sklearn.cross_validation import train_test_split\n",
    "from sklearn.metrics import accuracy_score\n",
    "from sklearn.cross_validation import cross_val_score\n",
    "from collections import Counter\n",
    "from sklearn.metrics import accuracy_score\n",
    "from sklearn import cross_validation"
   ]
  },
  {
   "cell_type": "code",
   "execution_count": 2,
   "metadata": {
    "collapsed": true
   },
   "outputs": [],
   "source": [
    "#creating conectionwith the sqlite file\n",
    "con = sqlite3.connect('final.sqlite') \n",
    "\n",
    "#Reading the entire data from the file and storing it into a dataframe...\n",
    "data = pd.read_sql_query(\"select * from Reviews\", con)\n",
    "#data.head()"
   ]
  },
  {
   "cell_type": "code",
   "execution_count": 3,
   "metadata": {},
   "outputs": [
    {
     "data": {
      "text/plain": [
       "(364171, 12)"
      ]
     },
     "execution_count": 3,
     "metadata": {},
     "output_type": "execute_result"
    }
   ],
   "source": [
    "data.shape"
   ]
  },
  {
   "cell_type": "code",
   "execution_count": 4,
   "metadata": {},
   "outputs": [
    {
     "data": {
      "text/plain": [
       "positive    307061\n",
       "negative     57110\n",
       "Name: Score, dtype: int64"
      ]
     },
     "execution_count": 4,
     "metadata": {},
     "output_type": "execute_result"
    }
   ],
   "source": [
    "data[\"Score\"].value_counts()"
   ]
  },
  {
   "cell_type": "code",
   "execution_count": 5,
   "metadata": {
    "collapsed": true
   },
   "outputs": [],
   "source": [
    "data=data.sort_values(by='Time',ascending=True).reset_index()"
   ]
  },
  {
   "cell_type": "code",
   "execution_count": 6,
   "metadata": {
    "collapsed": true
   },
   "outputs": [],
   "source": [
    "data['Score']=data['Score'].map({'negative':0, 'positive':1})"
   ]
  },
  {
   "cell_type": "code",
   "execution_count": 7,
   "metadata": {
    "collapsed": true
   },
   "outputs": [],
   "source": [
    "# Text to vector conversion..for Training dataset\n",
    "# Creating bag of words on the Training set...\n",
    "#BoW\n",
    "count_vect = CountVectorizer() #in scikit-learn\n",
    "bow = count_vect.fit_transform(data[\"CleanedText\"].values)"
   ]
  },
  {
   "cell_type": "code",
   "execution_count": 9,
   "metadata": {},
   "outputs": [
    {
     "name": "stderr",
     "output_type": "stream",
     "text": [
      "C:\\Users\\vishu\\Anaconda3\\lib\\site-packages\\sklearn\\utils\\validation.py:429: DataConversionWarning: Data with input dtype int64 was converted to float64 by StandardScaler.\n",
      "  warnings.warn(msg, _DataConversionWarning)\n"
     ]
    },
    {
     "name": "stdout",
     "output_type": "stream",
     "text": [
      "(364171, 71624)\n"
     ]
    }
   ],
   "source": [
    "# Data-preprocessing: Standardizing the data\n",
    "\n",
    "from sklearn.preprocessing import StandardScaler\n",
    "standardized_data_bow = StandardScaler(with_mean=False).fit_transform(bow)\n",
    "print(standardized_data_bow.shape)"
   ]
  },
  {
   "cell_type": "code",
   "execution_count": 10,
   "metadata": {
    "collapsed": true
   },
   "outputs": [],
   "source": [
    "del standardized_data"
   ]
  },
  {
   "cell_type": "code",
   "execution_count": 11,
   "metadata": {
    "collapsed": true
   },
   "outputs": [],
   "source": [
    "# split the data set into train and test\n",
    "X_train, X_test, Y_train, Y_test = cross_validation.train_test_split(standardized_data_bow,data[\"Score\"].values, test_size=0.3, random_state=0)"
   ]
  },
  {
   "cell_type": "code",
   "execution_count": 17,
   "metadata": {},
   "outputs": [
    {
     "name": "stdout",
     "output_type": "stream",
     "text": [
      "\n",
      "The optimal value of alpha is 0.001\n"
     ]
    },
    {
     "data": {
      "image/png": "[encoded data removed]",
      "text/plain": [
       "<matplotlib.figure.Figure at 0x2053c8e2400>"
      ]
     },
     "metadata": {},
     "output_type": "display_data"
    },
    {
     "name": "stdout",
     "output_type": "stream",
     "text": [
      "the misclassification error for each alpha value is :  [ 0.216  0.217  0.218  0.22 ]\n"
     ]
    }
   ],
   "source": [
    "from sklearn.naive_bayes import MultinomialNB\n",
    "#creating a list of alpha values\n",
    "mylist=[10**-3,10**-2,10**-1,10**0]\n",
    "\n",
    "# empty list that will hold cv scores\n",
    "cv_scores = []\n",
    "\n",
    "# perform 10-fold cross validation\n",
    "for a in mylist:\n",
    "    mnb = MultinomialNB(alpha=a)\n",
    "    scores = cross_val_score(mnb,X_train, Y_train, cv=10, scoring='accuracy')\n",
    "    cv_scores.append(scores.mean())\n",
    "\n",
    "# changing to misclassification error\n",
    "MSE = [1 - x for x in cv_scores]\n",
    "\n",
    "# determining best alpha\n",
    "optimal_a_bow = mylist[MSE.index(min(MSE))]\n",
    "print('\\nThe optimal value of alpha is {}'.format(optimal_a_bow))\n",
    "\n",
    "# plot misclassification error vs alpha \n",
    "plt.plot(mylist, MSE)\n",
    "\n",
    "for xy in zip(mylist, np.round(MSE,3)):\n",
    "    plt.annotate('(%s, %s)' % xy, xy=xy, textcoords='data')\n",
    "\n",
    "plt.xlabel('alpha ')\n",
    "plt.ylabel('Misclassification Error')\n",
    "plt.show()\n",
    "\n",
    "print(\"the misclassification error for each alpha value is : \", np.round(MSE,3))"
   ]
  },
  {
   "cell_type": "code",
   "execution_count": 27,
   "metadata": {},
   "outputs": [
    {
     "name": "stdout",
     "output_type": "stream",
     "text": [
      "\n",
      "The accuracy on test set of the MultinomialNB classifier for alpha = (0.001, 78.497418811554937)\n"
     ]
    }
   ],
   "source": [
    "# instantiate learning model alpha = optimal_a_bow\n",
    "mnb_optimal_bow =MultinomialNB(alpha=optimal_a_bow)\n",
    "\n",
    "# fitting the model\n",
    "mnb_optimal_bow.fit(X_train, Y_train)\n",
    "\n",
    "# predict the response\n",
    "pred_bow_test = mnb_optimal_bow.predict(X_test)\n",
    "\n",
    "# evaluate accuracy\n",
    "acc_bow_test = accuracy_score(Y_test, pred_bow_test) * 100\n",
    "print('\\nThe accuracy on test set of the MultinomialNB classifier for alpha = {}'.format((optimal_a_bow, acc_bow_test)))"
   ]
  },
  {
   "cell_type": "code",
   "execution_count": 28,
   "metadata": {},
   "outputs": [
    {
     "name": "stdout",
     "output_type": "stream",
     "text": [
      "\n",
      "The accuracy on training set of the MultinomialNB classifier for alpha = (0.001, 86.56161368905417)\n"
     ]
    }
   ],
   "source": [
    "#checking train accuracy\n",
    "# predict the response\n",
    "pred_bow_train = mnb_optimal_bow.predict(X_train)\n",
    "# evaluate accuracy\n",
    "acc_bow_train = accuracy_score(Y_train, pred_bow_train) * 100\n",
    "print('\\nThe accuracy on training set of the MultinomialNB classifier for alpha = {}'.format((optimal_a_bow, acc_bow_train)))\n"
   ]
  },
  {
   "cell_type": "code",
   "execution_count": 24,
   "metadata": {
    "scrolled": true
   },
   "outputs": [
    {
     "name": "stdout",
     "output_type": "stream",
     "text": [
      "CONFUSION MATRIX :\n",
      "\n",
      "[[12111  5102]\n",
      " [18390 73649]]\n",
      "\n",
      "ACCURACY SCORE : 0.784974188116\n",
      "\n",
      "REPORT : \n",
      "             precision    recall  f1-score   support\n",
      "\n",
      "          0       0.40      0.70      0.51     17213\n",
      "          1       0.94      0.80      0.86     92039\n",
      "\n",
      "avg / total       0.85      0.78      0.81    109252\n",
      "\n"
     ]
    }
   ],
   "source": [
    "#Confusion matrix.....\n",
    "#Classification Report......\n",
    "from sklearn.metrics import classification_report\n",
    "results = confusion_matrix(Y_test, pred_bow_test)\n",
    "print('CONFUSION MATRIX :')\n",
    "print()\n",
    "print(results)\n",
    "print()\n",
    "print('ACCURACY SCORE :',accuracy_score(Y_test, pred_bow_test)) \n",
    "print()\n",
    "print('REPORT : ') \n",
    "print(classification_report(Y_test, pred_bow_test)) "
   ]
  },
  {
   "cell_type": "markdown",
   "metadata": {},
   "source": [
    "## 2) BINARY-BAG OF WORDS"
   ]
  },
  {
   "cell_type": "code",
   "execution_count": 31,
   "metadata": {
    "collapsed": true
   },
   "outputs": [],
   "source": [
    "# Text to vector conversion..for Training dataset\n",
    "# Creating bag of words on the Training set...\n",
    "#Binary BoW\n",
    "count_vect = CountVectorizer(binary=True) #in scikit-learn\n",
    "binary_bow = count_vect.fit_transform(data[\"CleanedText\"].values)"
   ]
  },
  {
   "cell_type": "code",
   "execution_count": 34,
   "metadata": {},
   "outputs": [
    {
     "data": {
      "text/plain": [
       "(364171, 71624)"
      ]
     },
     "execution_count": 34,
     "metadata": {},
     "output_type": "execute_result"
    }
   ],
   "source": [
    "binary_bow.shape"
   ]
  },
  {
   "cell_type": "code",
   "execution_count": 36,
   "metadata": {},
   "outputs": [
    {
     "name": "stderr",
     "output_type": "stream",
     "text": [
      "C:\\Users\\vishu\\Anaconda3\\lib\\site-packages\\sklearn\\utils\\validation.py:429: DataConversionWarning: Data with input dtype int64 was converted to float64 by StandardScaler.\n",
      "  warnings.warn(msg, _DataConversionWarning)\n"
     ]
    },
    {
     "name": "stdout",
     "output_type": "stream",
     "text": [
      "(364171, 71624)\n"
     ]
    }
   ],
   "source": [
    "# Data-preprocessing: Standardizing the data\n",
    "\n",
    "from sklearn.preprocessing import StandardScaler\n",
    "standardized_data_binary_bow = StandardScaler(with_mean=False).fit_transform(binary_bow)\n",
    "print(standardized_data_binary_bow.shape)"
   ]
  },
  {
   "cell_type": "code",
   "execution_count": 37,
   "metadata": {},
   "outputs": [],
   "source": [
    "# split the data set into train and test\n",
    "X_train_binary_bow, X_test_binary_bow, Y_train_binary_bow, Y_test_binary_bow = cross_validation.train_test_split(standardized_data_binary_bow,data[\"Score\"].values, test_size=0.3, random_state=0)"
   ]
  },
  {
   "cell_type": "code",
   "execution_count": 38,
   "metadata": {},
   "outputs": [
    {
     "name": "stdout",
     "output_type": "stream",
     "text": [
      "\n",
      "The optimal value of alpha is 0.01\n"
     ]
    },
    {
     "data": {
      "image/png": "[encoded data removed]",
      "text/plain": [
       "<matplotlib.figure.Figure at 0x2054c768080>"
      ]
     },
     "metadata": {},
     "output_type": "display_data"
    },
    {
     "name": "stdout",
     "output_type": "stream",
     "text": [
      "the misclassification error for each alpha value is :  [ 0.111  0.11   0.111  0.116]\n"
     ]
    }
   ],
   "source": [
    "from sklearn.naive_bayes import BernoulliNB\n",
    "#creating a list of alpha values\n",
    "mylist=[10**-3,10**-2,10**-1,10**0]\n",
    "\n",
    "# empty list that will hold cv scores\n",
    "cv_scores = []\n",
    "\n",
    "# perform 10-fold cross validation\n",
    "for a in mylist:\n",
    "    bnb = BernoulliNB(alpha=a)\n",
    "    scores = cross_val_score(bnb,X_train_binary_bow, Y_train_binary_bow, cv=10, scoring='accuracy')\n",
    "    cv_scores.append(scores.mean())\n",
    "\n",
    "# changing to misclassification error\n",
    "MSE = [1 - x for x in cv_scores]\n",
    "\n",
    "# determining best alpha\n",
    "optimal_a_binary_bow = mylist[MSE.index(min(MSE))]\n",
    "print('\\nThe optimal value of alpha is {}'.format(optimal_a_binary_bow))\n",
    "\n",
    "# plot misclassification error vs alpha \n",
    "plt.plot(mylist, MSE)\n",
    "\n",
    "for xy in zip(mylist, np.round(MSE,3)):\n",
    "    plt.annotate('(%s, %s)' % xy, xy=xy, textcoords='data')\n",
    "\n",
    "plt.xlabel('alpha ')\n",
    "plt.ylabel('Misclassification Error')\n",
    "plt.show()\n",
    "\n",
    "print(\"the misclassification error for each alpha value is : \", np.round(MSE,3))"
   ]
  },
  {
   "cell_type": "code",
   "execution_count": 39,
   "metadata": {},
   "outputs": [
    {
     "name": "stdout",
     "output_type": "stream",
     "text": [
      "\n",
      "The accuracy on test set of the BernoulliNB classifier for alpha = (0.01, 88.906381576538635)\n"
     ]
    }
   ],
   "source": [
    "# instantiate learning model alpha = optimal_a_bow\n",
    "bnb_optimal_bow =BernoulliNB(alpha=optimal_a_binary_bow)\n",
    "\n",
    "# fitting the model\n",
    "bnb_optimal_bow.fit(X_train_binary_bow, Y_train_binary_bow)\n",
    "\n",
    "# predict the response\n",
    "pred_binary_bow_test = bnb_optimal_bow.predict(X_test_binary_bow)\n",
    "\n",
    "# evaluate accuracy\n",
    "acc_binary_bow_test = accuracy_score(Y_test_binary_bow,pred_binary_bow_test) * 100\n",
    "print('\\nThe accuracy on test set of the BernoulliNB classifier for alpha = {}'.format((optimal_a_binary_bow, acc_binary_bow_test)))"
   ]
  },
  {
   "cell_type": "code",
   "execution_count": 40,
   "metadata": {},
   "outputs": [
    {
     "name": "stdout",
     "output_type": "stream",
     "text": [
      "\n",
      "The accuracy on Training set of the BernoulliNB classifier for alpha = (0.01, 91.216033328233664)\n"
     ]
    }
   ],
   "source": [
    "# predict the response on Training set\n",
    "pred_binary_bow_train = bnb_optimal_bow.predict(X_train_binary_bow)\n",
    "\n",
    "# evaluate accuracy\n",
    "acc_binary_bow_train = accuracy_score(Y_train_binary_bow,pred_binary_bow_train) * 100\n",
    "print('\\nThe accuracy on Training set of the BernoulliNB classifier for alpha = {}'.format((optimal_a_binary_bow, acc_binary_bow_train)))"
   ]
  },
  {
   "cell_type": "code",
   "execution_count": 41,
   "metadata": {
    "scrolled": true
   },
   "outputs": [
    {
     "name": "stdout",
     "output_type": "stream",
     "text": [
      "CONFUSION MATRIX :\n",
      "\n",
      "[[11166  6047]\n",
      " [ 6073 85966]]\n",
      "\n",
      "ACCURACY SCORE : 0.889063815765\n",
      "\n",
      "REPORT : \n",
      "             precision    recall  f1-score   support\n",
      "\n",
      "          0       0.65      0.65      0.65     17213\n",
      "          1       0.93      0.93      0.93     92039\n",
      "\n",
      "avg / total       0.89      0.89      0.89    109252\n",
      "\n"
     ]
    }
   ],
   "source": [
    "#Confusion matrix.....\n",
    "#Classification Report......\n",
    "from sklearn.metrics import classification_report\n",
    "results = confusion_matrix(Y_test_binary_bow, pred_binary_bow_test)\n",
    "print('CONFUSION MATRIX :')\n",
    "print()\n",
    "print(results)\n",
    "print()\n",
    "print('ACCURACY SCORE :',accuracy_score(Y_test_binary_bow, pred_binary_bow_test)) \n",
    "print()\n",
    "print('REPORT : ') \n",
    "print(classification_report(Y_test_binary_bow, pred_binary_bow_test)) "
   ]
  },
  {
   "cell_type": "markdown",
   "metadata": {},
   "source": [
    "# 3) TF-IDF"
   ]
  },
  {
   "cell_type": "code",
   "execution_count": 42,
   "metadata": {
    "collapsed": true
   },
   "outputs": [],
   "source": [
    "tf_idf_vect = TfidfVectorizer(ngram_range=(1,2))\n",
    "final_tf_idf = tf_idf_vect.fit_transform(data['CleanedText'].values)"
   ]
  },
  {
   "cell_type": "code",
   "execution_count": 43,
   "metadata": {},
   "outputs": [
    {
     "name": "stdout",
     "output_type": "stream",
     "text": [
      "(364171, 2923725)\n"
     ]
    }
   ],
   "source": [
    "# Data-preprocessing: Standardizing the data\n",
    "\n",
    "from sklearn.preprocessing import StandardScaler\n",
    "standardized_data_tf = StandardScaler(with_mean=False).fit_transform(final_tf_idf)\n",
    "print(standardized_data_tf.shape)"
   ]
  },
  {
   "cell_type": "code",
   "execution_count": 44,
   "metadata": {
    "collapsed": true
   },
   "outputs": [],
   "source": [
    "# split the data set into train and test\n",
    "X_train_tf, X_test_tf, Y_train_tf, Y_test_tf = cross_validation.train_test_split(standardized_data_tf,data[\"Score\"].values, test_size=0.3, random_state=0)"
   ]
  },
  {
   "cell_type": "code",
   "execution_count": 45,
   "metadata": {},
   "outputs": [
    {
     "name": "stdout",
     "output_type": "stream",
     "text": [
      "\n",
      "The optimal value of alpha is 0.001\n"
     ]
    },
    {
     "data": {
      "image/png": "[encoded data removed]",
      "text/plain": [
       "<matplotlib.figure.Figure at 0x2056ab61eb8>"
      ]
     },
     "metadata": {},
     "output_type": "display_data"
    },
    {
     "name": "stdout",
     "output_type": "stream",
     "text": [
      "the misclassification error for each alpha value is :  [ 0.168  0.177  0.202  0.259]\n"
     ]
    }
   ],
   "source": [
    "from sklearn.naive_bayes import MultinomialNB\n",
    "#creating a list of alpha values\n",
    "mylist=[10**-3,10**-2,10**-1,10**0]\n",
    "\n",
    "# empty list that will hold cv scores\n",
    "cv_scores = []\n",
    "\n",
    "# perform 10-fold cross validation\n",
    "for a in mylist:\n",
    "    mnb = MultinomialNB(alpha=a)\n",
    "    scores = cross_val_score(mnb,X_train_tf, Y_train_tf, cv=10, scoring='accuracy')\n",
    "    cv_scores.append(scores.mean())\n",
    "\n",
    "# changing to misclassification error\n",
    "MSE = [1 - x for x in cv_scores]\n",
    "\n",
    "# determining best alpha\n",
    "optimal_a_tf = mylist[MSE.index(min(MSE))]\n",
    "print('\\nThe optimal value of alpha is {}'.format(optimal_a_tf))\n",
    "\n",
    "# plot misclassification error vs alpha \n",
    "plt.plot(mylist, MSE)\n",
    "\n",
    "for xy in zip(mylist, np.round(MSE,3)):\n",
    "    plt.annotate('(%s, %s)' % xy, xy=xy, textcoords='data')\n",
    "\n",
    "plt.xlabel('alpha ')\n",
    "plt.ylabel('Misclassification Error')\n",
    "plt.show()\n",
    "\n",
    "print(\"the misclassification error for each alpha value is : \", np.round(MSE,3))"
   ]
  },
  {
   "cell_type": "code",
   "execution_count": 47,
   "metadata": {},
   "outputs": [
    {
     "name": "stdout",
     "output_type": "stream",
     "text": [
      "\n",
      "The accuracy on test set of the MultinomialNB classifier for alpha = (0.001, 83.138066122359305)\n"
     ]
    }
   ],
   "source": [
    "# instantiate learning model alpha = optimal_a_bow\n",
    "mnb_optimal_tf =MultinomialNB(alpha=optimal_a_tf)\n",
    "\n",
    "# fitting the model\n",
    "mnb_optimal_tf.fit(X_train_tf, Y_train_tf)\n",
    "\n",
    "# predict the response\n",
    "pred_tf_test = mnb_optimal_tf.predict(X_test_tf)\n",
    "\n",
    "# evaluate accuracy\n",
    "acc_tf_test = accuracy_score(Y_test_tf, pred_tf_test) * 100\n",
    "print('\\nThe accuracy on test set of the MultinomialNB classifier for alpha = {}'.format((optimal_a_tf, acc_tf_test)))"
   ]
  },
  {
   "cell_type": "code",
   "execution_count": 49,
   "metadata": {},
   "outputs": [
    {
     "name": "stdout",
     "output_type": "stream",
     "text": [
      "\n",
      "The accuracy on training set of the MultinomialNB classifier for alpha = (0.001, 99.809743487146889)\n"
     ]
    }
   ],
   "source": [
    "#checking train accuracy\n",
    "# predict the response\n",
    "pred_tf_train = mnb_optimal_tf.predict(X_train_tf)\n",
    "# evaluate accuracy\n",
    "acc_tf_train = accuracy_score(Y_train_tf, pred_tf_train) * 100\n",
    "print('\\nThe accuracy on training set of the MultinomialNB classifier for alpha = {}'.format((optimal_a_tf, acc_tf_train)))\n"
   ]
  },
  {
   "cell_type": "code",
   "execution_count": 50,
   "metadata": {},
   "outputs": [
    {
     "name": "stdout",
     "output_type": "stream",
     "text": [
      "CONFUSION MATRIX :\n",
      "\n",
      "[[ 6884 10329]\n",
      " [ 8093 83946]]\n",
      "\n",
      "ACCURACY SCORE : 0.831380661224\n",
      "\n",
      "REPORT : \n",
      "             precision    recall  f1-score   support\n",
      "\n",
      "          0       0.46      0.40      0.43     17213\n",
      "          1       0.89      0.91      0.90     92039\n",
      "\n",
      "avg / total       0.82      0.83      0.83    109252\n",
      "\n"
     ]
    }
   ],
   "source": [
    "#Confusion matrix.....\n",
    "#Classification Report......\n",
    "from sklearn.metrics import classification_report\n",
    "results = confusion_matrix(Y_test_tf, pred_tf_test)\n",
    "print('CONFUSION MATRIX :')\n",
    "print()\n",
    "print(results)\n",
    "print()\n",
    "print('ACCURACY SCORE :',accuracy_score(Y_test_tf, pred_tf_test)) \n",
    "print()\n",
    "print('REPORT : ') \n",
    "print(classification_report(Y_test_tf, pred_tf_test)) "
   ]
  },
  {
   "cell_type": "markdown",
   "metadata": {},
   "source": [
    "# SUMMARY"
   ]
  },
  {
   "cell_type": "code",
   "execution_count": 54,
   "metadata": {},
   "outputs": [
    {
     "name": "stdout",
     "output_type": "stream",
     "text": [
      "+-----+---------------------------------+-----------------------+-------------------+------------------+\n",
      "| Sno |              MODEL              | HYPERPARAMETER(alpha) | TRAIN ERROR(in %) | TEST ERROR(in %) |\n",
      "+-----+---------------------------------+-----------------------+-------------------+------------------+\n",
      "|  1  |   Bag of Words(MultinomialNB)   |         0.001         |   13.4383863109   |  21.5025811884   |\n",
      "|  2  | Binary Bag of Words(BernouliNB) |          0.01         |   8.78396667177   |  11.0936184235   |\n",
      "|  3  |       TFIDF(MultinomialNB)      |         0.001         |   0.190256512853  |  16.8619338776   |\n",
      "+-----+---------------------------------+-----------------------+-------------------+------------------+\n"
     ]
    }
   ],
   "source": [
    "from prettytable import PrettyTable\n",
    "t = PrettyTable([\"Sno\",\"MODEL\", \"HYPERPARAMETER(alpha)\", \"TRAIN ERROR(in %)\",\"TEST ERROR(in %)\"])\n",
    "t.add_row([1,\"Bag of Words(MultinomialNB)\",optimal_a_bow,(100.0-acc_bow_train),(100.0-acc_bow_test)])\n",
    "t.add_row([2,\"Binary Bag of Words(BernouliNB)\",optimal_a_binary_bow,(100.0-acc_binary_bow_train),(100.0-acc_binary_bow_test)])\n",
    "t.add_row([3,\"TFIDF(MultinomialNB)\",optimal_a_tf,(100.0-acc_tf_train),(100.0-acc_tf_test)])\n",
    "print(t)"
   ]
  }
 ],
 "metadata": {
  "kernelspec": {
   "display_name": "Python 3",
   "language": "python",
   "name": "python3"
  },
  "language_info": {
   "codemirror_mode": {
    "name": "ipython",
    "version": 3
   },
   "file_extension": ".py",
   "mimetype": "text/x-python",
   "name": "python",
   "nbconvert_exporter": "python",
   "pygments_lexer": "ipython3",
   "version": "3.6.1"
  }
 },
 "nbformat": 4,
 "nbformat_minor": 2
}
